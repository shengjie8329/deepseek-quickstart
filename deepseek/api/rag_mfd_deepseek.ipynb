{
 "cells": [
  {
   "cell_type": "markdown",
   "id": "ee8e9cab-7179-4237-b1bb-fef21fb1fcb4",
   "metadata": {},
   "source": [
    "# 使用 Milvus 和 DeepSeek 构建 民法典 RAG\n"
   ]
  },
  {
   "cell_type": "code",
   "execution_count": 1,
   "id": "e1704095-2d67-4cf1-8f7c-a24053af62a6",
   "metadata": {},
   "outputs": [],
   "source": [
    "import os\n",
    "\n",
    "# 从环境变量获取 DeepSeek API Key\n",
    "api_key = os.getenv(\"DEEPSEEK_API_KEY\")\n",
    "os.environ['HF_ENDPOINT'] = 'https://hf-mirror.com'\n",
    "os.environ['HUGGINGFACE_CO_URL_HOME'] = 'https://hf-mirror.com'"
   ]
  },
  {
   "cell_type": "code",
   "execution_count": 2,
   "id": "8a529b30-cbe1-47ef-a059-a7a997b664c2",
   "metadata": {},
   "outputs": [],
   "source": [
    "from glob import glob\n",
    "\n",
    "text_lines = []\n",
    "\n",
    "with open(\"mfd.md\", \"r\") as file:\n",
    "    file_text = file.read()\n",
    "\n",
    "text_lines += file_text.split(\"\\n\\n\")"
   ]
  },
  {
   "cell_type": "code",
   "execution_count": 3,
   "id": "eec274a8-16a1-478f-96a5-fd9b322d7834",
   "metadata": {},
   "outputs": [
    {
     "data": {
      "text/plain": [
       "417"
      ]
     },
     "execution_count": 3,
     "metadata": {},
     "output_type": "execute_result"
    }
   ],
   "source": [
    "len(text_lines)"
   ]
  },
  {
   "cell_type": "markdown",
   "id": "2cdd77b7-2442-44ad-95b0-eb24b3a2e470",
   "metadata": {},
   "source": [
    "### 准备 LLM 和 Embedding 模型"
   ]
  },
  {
   "cell_type": "code",
   "execution_count": 4,
   "id": "b30a474e-3640-49dc-9c94-4500e101a010",
   "metadata": {},
   "outputs": [],
   "source": [
    "from openai import OpenAI\n",
    "\n",
    "deepseek_client = OpenAI(\n",
    "    api_key=api_key,\n",
    "    base_url=\"https://api.deepseek.com/v1\",  # DeepSeek API 的基地址\n",
    ")"
   ]
  },
  {
   "cell_type": "code",
   "execution_count": 5,
   "id": "fcc3eac6-e931-4b3f-903f-a96b6a5233c9",
   "metadata": {},
   "outputs": [
    {
     "name": "stderr",
     "output_type": "stream",
     "text": [
      "/data/miniconda/install/envs/deepseek/lib/python3.13/site-packages/tqdm/auto.py:21: TqdmWarning: IProgress not found. Please update jupyter and ipywidgets. See https://ipywidgets.readthedocs.io/en/stable/user_install.html\n",
      "  from .autonotebook import tqdm as notebook_tqdm\n"
     ]
    }
   ],
   "source": [
    "from pymilvus import model as milvus_model\n",
    "\n",
    "embedding_model = milvus_model.DefaultEmbeddingFunction()"
   ]
  },
  {
   "cell_type": "code",
   "execution_count": 6,
   "id": "ab8bdf85-84fa-4ab0-af75-6b0fb2a55c9d",
   "metadata": {},
   "outputs": [],
   "source": [
    "from pymilvus import MilvusClient\n",
    "\n",
    "milvus_client = MilvusClient(uri=\"./milvus_demo_mfd1.db\")\n",
    "\n",
    "collection_name = \"mfd_rag_collection1\""
   ]
  },
  {
   "cell_type": "code",
   "execution_count": 7,
   "id": "add1beb5-0de2-4349-a83e-f2c8d9bd08ee",
   "metadata": {},
   "outputs": [],
   "source": [
    "if milvus_client.has_collection(collection_name):\n",
    "    milvus_client.drop_collection(collection_name)"
   ]
  },
  {
   "cell_type": "code",
   "execution_count": 9,
   "id": "c8f60180-2254-43a1-b8d6-34ab19495af8",
   "metadata": {},
   "outputs": [],
   "source": [
    "from pymilvus import model as milvus_model\n",
    "\n",
    "embedding_model = milvus_model.DefaultEmbeddingFunction()\n",
    "\n",
    "test_embedding = embedding_model.encode_queries([\"This is a test\"])[0]\n",
    "embedding_dim = len(test_embedding)"
   ]
  },
  {
   "cell_type": "code",
   "execution_count": 10,
   "id": "dd0c5d85-5342-46e1-b52d-5e4d9bc2e04e",
   "metadata": {},
   "outputs": [],
   "source": [
    "milvus_client.create_collection(\n",
    "    collection_name=collection_name,\n",
    "    dimension=embedding_dim, \n",
    "    metric_type=\"COSINE\",  # 内积距离#余弦相似度\n",
    "    consistency_level=\"Strong\",  # 支持的值为 (`\"Strong\"`, `\"Session\"`, `\"Bounded\"`, `\"Eventually\"`)。更多详情请参见 https://milvus.io/docs/consistency.md#Consistency-Level。\n",
    ")"
   ]
  },
  {
   "cell_type": "code",
   "execution_count": 11,
   "id": "96850806-01b0-4436-b32d-10b5d837cdab",
   "metadata": {},
   "outputs": [
    {
     "name": "stderr",
     "output_type": "stream",
     "text": [
      "Creating mfd embeddings: 100%|█████████████████████████████████████████████████████████████████████████████████████████████████████████████████████████████████████████████████████████████████████████████████████████████████████████████████████████| 417/417 [00:00<00:00, 1510384.08it/s]\n"
     ]
    },
    {
     "data": {
      "text/plain": [
       "{'insert_count': 417, 'ids': [0, 1, 2, 3, 4, 5, 6, 7, 8, 9, 10, 11, 12, 13, 14, 15, 16, 17, 18, 19, 20, 21, 22, 23, 24, 25, 26, 27, 28, 29, 30, 31, 32, 33, 34, 35, 36, 37, 38, 39, 40, 41, 42, 43, 44, 45, 46, 47, 48, 49, 50, 51, 52, 53, 54, 55, 56, 57, 58, 59, 60, 61, 62, 63, 64, 65, 66, 67, 68, 69, 70, 71, 72, 73, 74, 75, 76, 77, 78, 79, 80, 81, 82, 83, 84, 85, 86, 87, 88, 89, 90, 91, 92, 93, 94, 95, 96, 97, 98, 99, 100, 101, 102, 103, 104, 105, 106, 107, 108, 109, 110, 111, 112, 113, 114, 115, 116, 117, 118, 119, 120, 121, 122, 123, 124, 125, 126, 127, 128, 129, 130, 131, 132, 133, 134, 135, 136, 137, 138, 139, 140, 141, 142, 143, 144, 145, 146, 147, 148, 149, 150, 151, 152, 153, 154, 155, 156, 157, 158, 159, 160, 161, 162, 163, 164, 165, 166, 167, 168, 169, 170, 171, 172, 173, 174, 175, 176, 177, 178, 179, 180, 181, 182, 183, 184, 185, 186, 187, 188, 189, 190, 191, 192, 193, 194, 195, 196, 197, 198, 199, 200, 201, 202, 203, 204, 205, 206, 207, 208, 209, 210, 211, 212, 213, 214, 215, 216, 217, 218, 219, 220, 221, 222, 223, 224, 225, 226, 227, 228, 229, 230, 231, 232, 233, 234, 235, 236, 237, 238, 239, 240, 241, 242, 243, 244, 245, 246, 247, 248, 249, 250, 251, 252, 253, 254, 255, 256, 257, 258, 259, 260, 261, 262, 263, 264, 265, 266, 267, 268, 269, 270, 271, 272, 273, 274, 275, 276, 277, 278, 279, 280, 281, 282, 283, 284, 285, 286, 287, 288, 289, 290, 291, 292, 293, 294, 295, 296, 297, 298, 299, 300, 301, 302, 303, 304, 305, 306, 307, 308, 309, 310, 311, 312, 313, 314, 315, 316, 317, 318, 319, 320, 321, 322, 323, 324, 325, 326, 327, 328, 329, 330, 331, 332, 333, 334, 335, 336, 337, 338, 339, 340, 341, 342, 343, 344, 345, 346, 347, 348, 349, 350, 351, 352, 353, 354, 355, 356, 357, 358, 359, 360, 361, 362, 363, 364, 365, 366, 367, 368, 369, 370, 371, 372, 373, 374, 375, 376, 377, 378, 379, 380, 381, 382, 383, 384, 385, 386, 387, 388, 389, 390, 391, 392, 393, 394, 395, 396, 397, 398, 399, 400, 401, 402, 403, 404, 405, 406, 407, 408, 409, 410, 411, 412, 413, 414, 415, 416], 'cost': 0}"
      ]
     },
     "execution_count": 11,
     "metadata": {},
     "output_type": "execute_result"
    }
   ],
   "source": [
    "from tqdm import tqdm\n",
    "\n",
    "data = []\n",
    "\n",
    "doc_embeddings = embedding_model.encode_documents(text_lines)\n",
    "\n",
    "for i, line in enumerate(tqdm(text_lines, desc=\"Creating mfd embeddings\")):\n",
    "    data.append({\"id\": i, \"vector\": doc_embeddings[i], \"txt\": line})\n",
    "\n",
    "milvus_client.insert(collection_name=collection_name, data=data)"
   ]
  },
  {
   "cell_type": "code",
   "execution_count": 15,
   "id": "7c4e4853-fc3d-4dc3-bf61-7a6a419f5b50",
   "metadata": {},
   "outputs": [],
   "source": [
    "question = \"登记机构应履行那些职责?\""
   ]
  },
  {
   "cell_type": "code",
   "execution_count": 16,
   "id": "e41b07d6-8128-4b59-ab61-42d002cc03bd",
   "metadata": {},
   "outputs": [],
   "source": [
    "search_res = milvus_client.search(\n",
    "    collection_name=collection_name,\n",
    "    data=embedding_model.encode_queries(\n",
    "        [question]\n",
    "    ),  # 将问题转换为嵌入向量\n",
    "    limit=3,  # 返回前3个结果\n",
    "    search_params={\"metric_type\": \"COSINE\", \"params\": {}},  # 内积距离\n",
    "    output_fields=[\"txt\"],  # 返回 text 字段\n",
    ")"
   ]
  },
  {
   "cell_type": "code",
   "execution_count": 17,
   "id": "06d78d07-0f6a-4d8c-8c85-f39db625166a",
   "metadata": {},
   "outputs": [
    {
     "name": "stdout",
     "output_type": "stream",
     "text": [
      "[\n",
      "    [\n",
      "        \"**\\u7b2c\\u4e09\\u767e\\u516b\\u5341\\u516d\\u6761** \\u5c45\\u4f4f\\u6743\\u4eba\\u6709\\u6743\\u5bf9\\u5c45\\u4f4f\\u6743\\u7684\\u4f4f\\u5b85\\u8fdb\\u884c\\u7ef4\\u4fee\\u3001\\u517b\\u62a4\\uff0c\\u4f46\\u4e0d\\u5f97\\u6539\\u53d8\\u4f4f\\u5b85\\u7684\\u7528\\u9014\\u3002\\n\\u5c45\\u4f4f\\u6743\\u4eba\\u5bf9\\u5c45\\u4f4f\\u6743\\u7684\\u4f4f\\u5b85\\u4eab\\u6709\\u5360\\u6709\\u3001\\u4f7f\\u7528\\u7684\\u6743\\u5229\\u3002\",\n",
      "        0.6666155457496643\n",
      "    ],\n",
      "    [\n",
      "        \"**\\u7b2c\\u4e09\\u767e\\u4e03\\u5341\\u516d\\u6761** \\u5efa\\u8bbe\\u7528\\u5730\\u4f7f\\u7528\\u6743\\u6d88\\u706d\\u7684\\uff0c\\u767b\\u8bb0\\u673a\\u6784\\u5e94\\u5f53\\u4f9d\\u6cd5\\u529e\\u7406\\u6ce8\\u9500\\u767b\\u8bb0\\u3002\\n\\u5efa\\u8bbe\\u7528\\u5730\\u4f7f\\u7528\\u6743\\u4eba\\u5e94\\u5f53\\u6309\\u7167\\u7ea6\\u5b9a\\u5411\\u571f\\u5730\\u6240\\u6709\\u6743\\u4eba\\u652f\\u4ed8\\u51fa\\u8ba9\\u91d1\\u3002\",\n",
      "        0.6666155457496643\n",
      "    ],\n",
      "    [\n",
      "        \"**\\u7b2c\\u4e09\\u767e\\u4e94\\u5341\\u4e94\\u6761** \\u7528\\u76ca\\u7269\\u6743\\u4eba\\u884c\\u4f7f\\u6743\\u5229\\uff0c\\u4e0d\\u5f97\\u635f\\u5bb3\\u6240\\u6709\\u6743\\u4eba\\u7684\\u5408\\u6cd5\\u6743\\u76ca\\u3002\\n\\u7528\\u76ca\\u7269\\u6743\\u4eba\\u4e0d\\u5f97\\u8f6c\\u8ba9\\u3001\\u51fa\\u79df\\u3001\\u62c5\\u4fdd\\u5176\\u7528\\u76ca\\u7269\\u6743\\u3002\\u6cd5\\u5f8b\\u53e6\\u6709\\u89c4\\u5b9a\\u6216\\u8005\\u5f53\\u4e8b\\u4eba\\u53e6\\u6709\\u7ea6\\u5b9a\\u7684\\u9664\\u5916\\u3002\",\n",
      "        0.6666155457496643\n",
      "    ]\n",
      "]\n"
     ]
    }
   ],
   "source": [
    "import json\n",
    "\n",
    "retrieved_lines_with_distances = [\n",
    "    (res[\"entity\"][\"txt\"], res[\"distance\"]) for res in search_res[0]\n",
    "]\n",
    "print(json.dumps(retrieved_lines_with_distances, indent=4))"
   ]
  },
  {
   "cell_type": "code",
   "execution_count": 18,
   "id": "b8155c47-a5f8-4cc0-b251-f78a5698383e",
   "metadata": {},
   "outputs": [],
   "source": [
    "context = \"\\n\".join(\n",
    "    [line_with_distance[0] for line_with_distance in retrieved_lines_with_distances]\n",
    ")"
   ]
  },
  {
   "cell_type": "code",
   "execution_count": 19,
   "id": "120d797d-98d4-46d1-801d-11868d731c35",
   "metadata": {},
   "outputs": [],
   "source": [
    "SYSTEM_PROMPT = \"\"\"\n",
    "Human: 你是一个 AI 助手。你能够从提供的上下文段落片段中找到问题的答案。\n",
    "\"\"\"\n",
    "USER_PROMPT = f\"\"\"\n",
    "请使用以下用 <context> 标签括起来的信息片段来回答用 <question> 标签括起来的问题。最后追加原始回答的英文翻译，并用 <translated>和</translated> 标签标注。\n",
    "<context>\n",
    "{context}\n",
    "</context>\n",
    "<question>\n",
    "{question}\n",
    "</question>\n",
    "<translated>\n",
    "</translated>\n",
    "\"\"\""
   ]
  },
  {
   "cell_type": "code",
   "execution_count": 20,
   "id": "3ba5bbcf-4326-460d-8822-a3d10ada0662",
   "metadata": {},
   "outputs": [
    {
     "data": {
      "text/plain": [
       "'\\n请使用以下用 <context> 标签括起来的信息片段来回答用 <question> 标签括起来的问题。最后追加原始回答的英文翻译，并用 <translated>和</translated> 标签标注。\\n<context>\\n**第三百八十六条** 居住权人有权对居住权的住宅进行维修、养护，但不得改变住宅的用途。\\n居住权人对居住权的住宅享有占有、使用的权利。\\n**第三百七十六条** 建设用地使用权消灭的，登记机构应当依法办理注销登记。\\n建设用地使用权人应当按照约定向土地所有权人支付出让金。\\n**第三百五十五条** 用益物权人行使权利，不得损害所有权人的合法权益。\\n用益物权人不得转让、出租、担保其用益物权。法律另有规定或者当事人另有约定的除外。\\n</context>\\n<question>\\n登记机构应履行那些职责?\\n</question>\\n<translated>\\n</translated>\\n'"
      ]
     },
     "execution_count": 20,
     "metadata": {},
     "output_type": "execute_result"
    }
   ],
   "source": [
    "USER_PROMPT"
   ]
  },
  {
   "cell_type": "code",
   "execution_count": 21,
   "id": "d6338fea-9439-40da-8c5b-c41ea58e3e62",
   "metadata": {},
   "outputs": [
    {
     "name": "stdout",
     "output_type": "stream",
     "text": [
      "根据提供的上下文，登记机构应履行的职责是：在建设用地使用权消灭时，依法办理注销登记。这一信息来源于《第三百七十六条》的内容。\n",
      "\n",
      "<translated>\n",
      "According to the provided context, the duties that the registration authority should perform are: when the right to use construction land is extinguished, the registration authority shall handle the cancellation of registration in accordance with the law. This information is derived from Article 376.\n",
      "</translated>\n"
     ]
    }
   ],
   "source": [
    "response = deepseek_client.chat.completions.create(\n",
    "    model=\"deepseek-chat\",\n",
    "    messages=[\n",
    "        {\"role\": \"system\", \"content\": SYSTEM_PROMPT},\n",
    "        {\"role\": \"user\", \"content\": USER_PROMPT},\n",
    "    ],\n",
    ")\n",
    "print(response.choices[0].message.content)"
   ]
  },
  {
   "cell_type": "code",
   "execution_count": null,
   "id": "8e5d21d2-37df-4f82-92cb-6549c9c39ad3",
   "metadata": {},
   "outputs": [],
   "source": []
  }
 ],
 "metadata": {
  "kernelspec": {
   "display_name": "Python 3 (ipykernel)",
   "language": "python",
   "name": "python3"
  },
  "language_info": {
   "codemirror_mode": {
    "name": "ipython",
    "version": 3
   },
   "file_extension": ".py",
   "mimetype": "text/x-python",
   "name": "python",
   "nbconvert_exporter": "python",
   "pygments_lexer": "ipython3",
   "version": "3.13.4"
  }
 },
 "nbformat": 4,
 "nbformat_minor": 5
}
